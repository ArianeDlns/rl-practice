{
 "cells": [
  {
   "cell_type": "markdown",
   "metadata": {},
   "source": [
    "# Frozen Lake - How to test different policies\n",
    "\n",
    "❄️ [FrozenLake](https://gym.openai.com/envs/FrozenLake-v0/)\n",
    "\n",
    "\n",
    "Winter is here. You and your friends were tossing around a frisbee at the park when you made a wild throw that left the frisbee out in the middle of the lake. The water is mostly frozen, but there are a few holes where the ice has melted. If you step into one of those holes, you'll fall into the freezing water. At this time, there's an international frisbee shortage, so it's absolutely imperative that you navigate across the lake and retrieve the disc. However, the ice is slippery, so you won't always move in the direction you intend.\n",
    "\n",
    "The surface is described using a grid like the following:\n",
    "\n",
    "````\n",
    "SFFF       (S: starting point, safe)\n",
    "FHFH       (F: frozen surface, safe)\n",
    "FFFH       (H: hole, fall to your doom)\n",
    "HFFG       (G: goal, where the frisbee is located)\n",
    "````\n",
    "\n",
    "The episode ends when you reach the goal or fall in a hole. You receive a reward of 1 if you reach the goal, and zero otherwise."
   ]
  },
  {
   "cell_type": "code",
   "execution_count": 1,
   "metadata": {},
   "outputs": [],
   "source": [
    "import gym.envs.toy_text.frozen_lake as fl\n",
    "import numpy as np\n",
    "import matplotlib.pyplot as plt\n",
    "import seaborn as sns\n",
    "from time import perf_counter\n",
    "np.set_printoptions(precision=3)\n",
    "SEED = int(\"WasFurEineUnverstandlichePraktischeSitzung\", base=36) "
   ]
  },
  {
   "cell_type": "code",
   "execution_count": null,
   "metadata": {},
   "outputs": [
    {
     "name": "stdout",
     "output_type": "stream",
     "text": [
      "\n",
      "\u001b[41mS\u001b[0mFFF\n",
      "FHFH\n",
      "FFFH\n",
      "HFFG\n"
     ]
    }
   ],
   "source": [
    "# Create environment\n",
    "env = fl.FrozenLakeEnv()  # gym.make('FrozenLake-v1')\n",
    "env.seed(SEED)\n",
    "\n",
    "env.render() #Renders the lake"
   ]
  },
  {
   "cell_type": "markdown",
   "metadata": {},
   "source": [
    "### 0. Helpers"
   ]
  },
  {
   "cell_type": "code",
   "execution_count": null,
   "metadata": {},
   "outputs": [],
   "source": [
    "def to_s(row, col):\n",
    "    return row * env.ncol + col\n",
    "\n",
    "def to_row_col(s):\n",
    "    col = s % env.ncol\n",
    "    row = s // env.ncol\n",
    "    return row, col\n",
    "\n",
    "def print_values(v):\n",
    "    for row in range(env.nrow):\n",
    "        for col in range(env.ncol):\n",
    "            s = f\"{v[to_s(row, col)]:.3}\"\n",
    "            print(s, end=' ' * (8 - len(s)))\n",
    "        print(\"\")\n",
    "\n",
    "\n",
    "def convert_time(t1, t2):\n",
    "    \"\"\"\n",
    "    t1 (datetime): end_time\n",
    "    t2 (datetime): start_time\n",
    "\n",
    "    return:\n",
    "    ------\n",
    "    diff (str): difference between t2 and t1\n",
    "    \"\"\"\n",
    "    return f\"Running time: {t2 - t1:.4f} sec\\n\"\n",
    "\n",
    "def plot_heatmap(V_simple_pi):\n",
    "    \"\"\"\n",
    "    Plot the heatmap for value function\n",
    "    \"\"\"\n",
    "    fig, ax = plt.subplots(figsize=(4, 6))\n",
    "    plt.title('Value function for each starting point on the grid')\n",
    "    sns.set(rc={'figure.facecolor':'white'})\n",
    "    sns.heatmap(V_simple_pi.reshape(4,4),cmap=\"YlGn\",annot=True, fmt=\".3f\",linewidth=0.3,cbar_kws={\"shrink\": .8})"
   ]
  },
  {
   "cell_type": "markdown",
   "metadata": {},
   "source": [
    "### 1. Installation\n",
    "Everything is installed and works fine by running the ``check_env.py`` file. \n",
    "\n",
    "### 2. Discovering the environment \n",
    "When running the ``discover.py`` file, we understand more the situation. \n",
    "\n",
    "States are $s \\in \\llbracket 0, 15\\rrbracket$ (4 rows of 4 tiles)\n",
    "\n",
    "Actions are drawn in:\n",
    "- LEFT (0)\n",
    "- DOWN (1)\n",
    "- RIGHT (2)\n",
    "- UP (3)\n",
    "\n",
    "Rewards are suchs that they are zero for all states expect the last one (state 15) where the reward is equal to 1. \n",
    "\n",
    "The Markov Decision Process is such that when you chose to move according to a certain direction $x \\in \\llbracket 0, 3 \\rrbracket$ then there is a $\\frac{1}{3}$ probability that you will go in this direction, a $\\frac{1}{3}$ probability that you will go in the $x-1 \\mod 4$ direction and a $\\frac{1}{3}$ probability that you will go in the $x+1 \\mod 4$ direction. If you try to move against the boundary of the lake, you'll just don't move.\n",
    "\n"
   ]
  },
  {
   "cell_type": "markdown",
   "metadata": {},
   "source": [
    "### 3. Monte-Carlo estimation of the value function\n",
    "In each state $s$, simulate $n$ trajectories, $((s_t^i)_{t≥0})_{1≤i≤n}$ following policy $\\pi$ and compute\n",
    "\n",
    "$$\\hat{V}^\\pi ≃ \\frac{1}{n}\\sum\\sum\\gamma^tr(s_t^i,\\pi(s_t^i))$$\n",
    "\n",
    "When running the ``hint_question3.py`` file, we get the following graph :"
   ]
  },
  {
   "cell_type": "code",
   "execution_count": null,
   "metadata": {},
   "outputs": [
    {
     "name": "stdout",
     "output_type": "stream",
     "text": [
      "Value estimate of the starting point: 0.0136\n"
     ]
    },
    {
     "data": {
      "image/png": "[encoded data removed]",
      "text/plain": [
       "<Figure size 432x288 with 1 Axes>"
      ]
     },
     "metadata": {
      "needs_background": "light"
     },
     "output_type": "display_data"
    }
   ],
   "source": [
    "NBR_EPISODES = 50000\n",
    "HORIZON = 200\n",
    "GAMMA = 0.9\n",
    "\n",
    "# First interaction with the environment\n",
    "VALUE_START = np.zeros(NBR_EPISODES)\n",
    "\n",
    "for i_episode in range(NBR_EPISODES):\n",
    "    env.reset()\n",
    "    done = False\n",
    "    t = 0\n",
    "    discount = 1\n",
    "    while (not done) and (t < HORIZON):\n",
    "        next_state, reward, done, _ = env.step(fl.RIGHT)\n",
    "        VALUE_START[i_episode] += discount * reward\n",
    "        discount *= GAMMA\n",
    "        t += 1\n",
    "\n",
    "print(f\"Value estimate of the starting point: {np.mean(VALUE_START):.4f}\")\n",
    "\n",
    "offset = 10\n",
    "plt.figure()\n",
    "plt.title(\"Convergence of the Monte Carlo estimation\\nof the value of the \\\n",
    "starting point\")\n",
    "plt.plot((np.cumsum(VALUE_START) / (np.arange(NBR_EPISODES) + 1))[offset:])\n",
    "plt.show()\n",
    "\n"
   ]
  },
  {
   "cell_type": "markdown",
   "metadata": {},
   "source": [
    "We can see that the value converges around 0.0130 which is the value of the starting point for strategy \"RIGHT only\"."
   ]
  },
  {
   "cell_type": "code",
   "execution_count": null,
   "metadata": {},
   "outputs": [
    {
     "name": "stdout",
     "output_type": "stream",
     "text": [
      "This policy succeeds in: 3.25% of the cases\n"
     ]
    }
   ],
   "source": [
    "print(f'This policy succeeds in: {sum(VALUE_START !=0)/len(VALUE_START)*100:.2f}% of the cases')"
   ]
  },
  {
   "cell_type": "markdown",
   "metadata": {},
   "source": [
    "### 4. Expected value method. \n",
    "\n",
    "We define a function that takes a policy $\\pi$ and outputs its value function $V^\\pi$ using Monte-Carlo estimation to compute it.\n",
    "\n",
    "$$\\hat{V}^\\pi ≃ \\frac{1}{n}\\sum\\sum\\gamma^tr(s_t^i,\\pi(s_t^i))$$"
   ]
  },
  {
   "cell_type": "code",
   "execution_count": null,
   "metadata": {},
   "outputs": [
    {
     "name": "stdout",
     "output_type": "stream",
     "text": [
      "\n",
      "\n",
      "######################\n",
      "##### Question 4 #####\n",
      "######################\n",
      "\n",
      "EXPECTED VALUE METHOD\n",
      "\n",
      "Running time: 31.6467 sec\n",
      "\n",
      "Value estimate of the starting point: 0.013\n",
      "Value function of the always RIGHT policy:\n",
      "\n"
     ]
    },
    {
     "data": {
      "image/png": "[encoded data removed]",
      "text/plain": [
       "<Figure size 288x432 with 2 Axes>"
      ]
     },
     "metadata": {
      "needs_background": "light"
     },
     "output_type": "display_data"
    }
   ],
   "source": [
    "NBR_EPISODES = 50000\n",
    "HORIZON = 200\n",
    "GAMMA = 0.9\n",
    "\n",
    "# Question 4\n",
    "print(\"\\n\\n######################\")\n",
    "print(\"##### Question 4 #####\")\n",
    "print(\"######################\\n\")\n",
    "print(\"EXPECTED VALUE METHOD\\n\")\n",
    "\n",
    "\n",
    "def value_function_expected(pi):\n",
    "    \"\"\"\n",
    "    pi : int array\n",
    "    For each index i, pi[i] is the action (int) chosen in state i\n",
    "    (ie) a number of state long np array that defines the policy\n",
    "    for each states of the environment\n",
    "    return a value vector that gives the value function for each state\n",
    "    of the environment using Monte Carlo estimation\n",
    "\n",
    "    return:\n",
    "    ------\n",
    "    V_pi : float array\n",
    "    For each index i, V_pi[i] is the value (float) of the state i\n",
    "    \"\"\"\n",
    "    v_pi = np.zeros(env.nS)\n",
    "    for s in range(env.nS):\n",
    "        v_s = 0\n",
    "        s_c = s\n",
    "        env.isd = np.zeros(env.nS)\n",
    "        env.isd[s] = 1\n",
    "        env.reset()\n",
    "        for _ in range(NBR_EPISODES):\n",
    "            env.reset()\n",
    "            done = False\n",
    "            t = 0\n",
    "            discount = 1\n",
    "            while not done and t < HORIZON:\n",
    "                t += 1\n",
    "                s_c, r, done, _ = env.step(pi[s_c])\n",
    "                v_s += discount * r\n",
    "                discount *= GAMMA\n",
    "        v_pi[s] = v_s / NBR_EPISODES\n",
    "    return v_pi\n",
    "\n",
    "\n",
    "simple_pi = fl.RIGHT * np.ones(env.nS)\n",
    "starting_time = perf_counter()\n",
    "V_simple_pi = value_function_expected(simple_pi)\n",
    "\n",
    "print(convert_time(starting_time, perf_counter()))\n",
    "print(f\"Value estimate of the starting point: {V_simple_pi[0]:.3f}\")\n",
    "print(f\"Value function of the always RIGHT policy:\\n\")\n",
    "#print_values(V_simple_pi)\n",
    "plot_heatmap(V_simple_pi)\n",
    "\n",
    "# reset the original isd\n",
    "env.isd = np.zeros(env.nS)\n",
    "env.isd[0] = 1"
   ]
  },
  {
   "cell_type": "markdown",
   "metadata": {},
   "source": [
    "### 5. Linear System Method\n",
    "\n",
    "We define another function that takes a policy $\\pi$ and outputs its value function $V^\\pi$ using the linear system method.\n",
    "\n",
    "$$V^{\\pi}(x) = m_{\\pi} + \\gamma \\displaystyle\\sum_{y}p_{\\pi}(y|x)V^{\\pi}(y)$$\n",
    "\n",
    "So when we write this equation with the probability transition matrix and isolate the $V^{\\pi}$ term, we get\n",
    "\n",
    "$$V^{\\pi} = m_{\\pi}(I-\\gamma P)^{-1}$$\n",
    "\n",
    "where $I$ is the identity vector and $P$ the probability transition matrix."
   ]
  },
  {
   "cell_type": "code",
   "execution_count": null,
   "metadata": {},
   "outputs": [
    {
     "name": "stdout",
     "output_type": "stream",
     "text": [
      "\n",
      "######################\n",
      "##### Question 5 #####\n",
      "######################\n",
      "\n",
      "LINEAR SYSTEM METHOD\n",
      "\n",
      "Running time: 0.0003 sec\n",
      "\n",
      "Value estimate of the starting point: 0.013\n",
      "Value function of the always RIGHT policy:\n",
      "\n"
     ]
    },
    {
     "data": {
      "image/png": "[encoded data removed]",
      "text/plain": [
       "<Figure size 288x432 with 2 Axes>"
      ]
     },
     "metadata": {},
     "output_type": "display_data"
    }
   ],
   "source": [
    "# Question 5\n",
    "print(\"\\n######################\")\n",
    "print(\"##### Question 5 #####\")\n",
    "print(\"######################\\n\")\n",
    "print(\"LINEAR SYSTEM METHOD\\n\")\n",
    "\n",
    "\n",
    "def value_function(pi):\n",
    "    \"\"\"\n",
    "    pi : int array\n",
    "    For each index i, pi[i] is the action (int) chosen in state i\n",
    "\n",
    "    return:\n",
    "    ------\n",
    "    V_pi : float array\n",
    "    For each index i, V_pi[i] is the value (float) of the state i\n",
    "    \"\"\"\n",
    "    # Compute both the reward vector r_pi and\n",
    "    # transition matrix P_pi associated to the policy on the given env\n",
    "    r_pi = np.zeros(env.nS)\n",
    "    transition_pi = np.zeros((env.nS, env.nS))\n",
    "    for state in range(env.nS):\n",
    "        transitions_info = env.P[state][pi[state]]\n",
    "        for transition in transitions_info:\n",
    "            probabilities, next_state, reward, _ = transition\n",
    "            transition_pi[state, next_state] += probabilities\n",
    "            r_pi[state] += reward * probabilities\n",
    "    # Compute the value function of the policy pi\n",
    "    identity = np.eye(env.nS)\n",
    "    return np.linalg.inv(identity - GAMMA * transition_pi) @ r_pi\n",
    "\n",
    "\n",
    "simple_pi = fl.RIGHT * np.ones(env.nS)\n",
    "starting_time = perf_counter()\n",
    "V_simple_pi = value_function(simple_pi)\n",
    "print(convert_time(starting_time, perf_counter()))\n",
    "print(f\"Value estimate of the starting point: {V_simple_pi[0]:.3f}\")\n",
    "print(f\"Value function of the always RIGHT policy:\\n\")\n",
    "#print_values(V_simple_pi)\n",
    "plot_heatmap(V_simple_pi)"
   ]
  },
  {
   "cell_type": "markdown",
   "metadata": {},
   "source": [
    "It seems that the values obtained by both algorithms are really close to each other. However, the linear system calculation worked **way faster** that the Monte Carlo estimation."
   ]
  },
  {
   "cell_type": "markdown",
   "metadata": {},
   "source": [
    "### 6. Bellman Operator Method\n",
    "The Bellman step is defined as follows :\n",
    "\n",
    "$$ \\mathcal{T}_\\pi[v] = m_\\pi + \\gamma P_\\pi v$$ \n",
    "\n",
    "The contraction property of the Bellman operator ensures that: \n",
    "\n",
    "$$ V_\\pi =  \\mathcal{T}_\\pi[V_\\pi] $$"
   ]
  },
  {
   "cell_type": "code",
   "execution_count": null,
   "metadata": {},
   "outputs": [
    {
     "name": "stdout",
     "output_type": "stream",
     "text": [
      "\n",
      "######################\n",
      "##### Question 6 #####\n",
      "######################\n",
      "\n",
      "BELLMAN OPERATOR METHOD\n",
      "\n",
      "Running time: 0.0164 sec\n",
      "\n",
      "Value function of the always RIGHT policy:\n",
      "\n",
      "\n",
      "Number of iterations: 45\n",
      "Last residual 0.000000\n"
     ]
    },
    {
     "data": {
      "image/png": "[encoded data removed]",
      "text/plain": [
       "<Figure size 288x432 with 2 Axes>"
      ]
     },
     "metadata": {},
     "output_type": "display_data"
    },
    {
     "data": {
      "image/png": "[encoded data removed]",
      "text/plain": [
       "<Figure size 432x288 with 1 Axes>"
      ]
     },
     "metadata": {},
     "output_type": "display_data"
    }
   ],
   "source": [
    "# Question 6\n",
    "print(\"\\n######################\")\n",
    "print(\"##### Question 6 #####\")\n",
    "print(\"######################\\n\")\n",
    "print(\"BELLMAN OPERATOR METHOD\\n\")\n",
    "\n",
    "\n",
    "def value_function_2(pi, epsilon, max_iter):\n",
    "    \"\"\"\n",
    "    pi : int array\n",
    "    For each index i, pi[i] is the action (int) chosen in state i\n",
    "\n",
    "    epsilon : float\n",
    "    Used as a threshold for the stopping rule\n",
    "\n",
    "    max_iter : int\n",
    "    Hard threshold on the number of loops\n",
    "\n",
    "    return:\n",
    "    ------\n",
    "    V_pi : float array\n",
    "    For each index i, V_pi[i] is the value (float) of the state i\n",
    "    \"\"\"\n",
    "    # Compute both the reward vector r_pi and\n",
    "    # transition matrix P_pi associated to the policy on the given env\n",
    "    r_pi = np.zeros(env.nS)\n",
    "    transition_pi = np.zeros((env.nS, env.nS))\n",
    "    for state in range(env.nS):\n",
    "        transitions_info = env.P[state][pi[state]]\n",
    "        for transition in transitions_info:\n",
    "            probability, next_state, reward, _ = transition\n",
    "            transition_pi[state, next_state] += probability\n",
    "            r_pi[state] += reward * probability\n",
    "    # Compute the value function V_pi of the policy pi\n",
    "    v_pi = np.zeros(env.nS)\n",
    "    v_pi_old = np.zeros(env.nS)\n",
    "    delta_inf = np.zeros(max_iter)\n",
    "    stop = False\n",
    "    i = 0\n",
    "    while (not stop) and (i < max_iter):\n",
    "        v_pi = r_pi + GAMMA * (transition_pi @ v_pi_old)\n",
    "        delta_inf[i] = np.max(np.abs(v_pi - v_pi_old))\n",
    "        v_pi_old[:] = v_pi\n",
    "        if delta_inf[i] < epsilon:\n",
    "            stop = True\n",
    "            delta_inf = delta_inf[:i + 1]\n",
    "        i += 1\n",
    "    return v_pi, delta_inf\n",
    "\n",
    "\n",
    "starting_time = perf_counter()\n",
    "V_simple_pi, Delta_inf = value_function_2(simple_pi, 1e-10, 10000)\n",
    "print(convert_time(starting_time, perf_counter()))\n",
    "print(f\"Value function of the always RIGHT policy:\\n\")\n",
    "#print_values(V_simple_pi)\n",
    "plot_heatmap(V_simple_pi)\n",
    "\n",
    "plt.figure()\n",
    "plt.title(\"Semi-log graph of $n \\mapsto || V_{n+1} - V_n ||_\\infty $ \\n\\\n",
    "The Linearity of this graph proves exponential convergence\")\n",
    "plt.semilogy(Delta_inf)\n",
    "plt.xlabel(\"Iterate\")\n",
    "plt.ylabel(r'$|| V_{n+1} - V_n ||_\\infty$')\n",
    "plt.savefig('question6.png')\n",
    "print(f\"\\nNumber of iterations: {Delta_inf.size}\")\n",
    "print(f\"Last residual {Delta_inf[-1]:.6f}\")\n"
   ]
  },
  {
   "cell_type": "markdown",
   "metadata": {},
   "source": [
    "The stopping criterions, used in this Bellman Operator methods is a threshold that was compared to the norm of the difference between a value function and its iteration. I\n",
    "\n",
    "We can notice that the convergence is fast, for a threshold of 1e-10, only 45 iterations were needed. \n"
   ]
  },
  {
   "cell_type": "markdown",
   "metadata": {},
   "source": [
    "### 7. Optimal Bellman Operator\n",
    "\n",
    "The Bellman optimal operator is defined as follows :\n",
    "\n",
    "$$ \\mathcal{T}[v] = \\max_{a} m_a + \\gamma P_av$$ \n",
    "\n",
    "The contraction property of the Bellman operator ensures that: \n",
    "\n",
    "$$ V =  \\mathcal{T}[V] $$"
   ]
  },
  {
   "cell_type": "code",
   "execution_count": null,
   "metadata": {},
   "outputs": [
    {
     "name": "stdout",
     "output_type": "stream",
     "text": [
      "\n",
      "######################\n",
      "##### Question 7 #####\n",
      "######################\n",
      "\n",
      "OPTIMAL BELLMAN OPERATOR\n",
      "\n",
      "Running time: 0.0076 sec\n",
      "\n",
      "Optimal value function:\n",
      "\n",
      "\n",
      "Number of iterations: 49\n",
      "Last residual 0.000000\n"
     ]
    },
    {
     "data": {
      "image/png": "[encoded data removed]",
      "text/plain": [
       "<Figure size 288x432 with 2 Axes>"
      ]
     },
     "metadata": {},
     "output_type": "display_data"
    },
    {
     "data": {
      "image/png": "[encoded data removed]",
      "text/plain": [
       "<Figure size 432x288 with 1 Axes>"
      ]
     },
     "metadata": {},
     "output_type": "display_data"
    }
   ],
   "source": [
    "# Question 7\n",
    "print(\"\\n######################\")\n",
    "print(\"##### Question 7 #####\")\n",
    "print(\"######################\\n\")\n",
    "print(\"OPTIMAL BELLMAN OPERATOR\\n\")\n",
    "from itertools import combinations_with_replacement\n",
    "\n",
    "#def possible_policies(env):\n",
    "#    actions = np.arange(env.action_space.n)\n",
    "#    return np.array(list(combinations_with_replacement(actions, 16)))\n",
    "\n",
    "def bellman_optimal(m_action, v_opt, transition_action):\n",
    "    v_action = []\n",
    "    for action in range(env.nA):\n",
    "        v_action += [list(m_action[action] + GAMMA * (transition_action[action] @ v_opt))]\n",
    "    return v_action[np.argmax(np.array(v_action).sum(axis=1))]\n",
    "\n",
    "def value_function_optimal(epsilon, max_iter):\n",
    "    \"\"\"\n",
    "    epsilon : float\n",
    "    Used as a threshold for the stopping rule\n",
    "\n",
    "    max_iter : int\n",
    "    Hard threshold on the number of loops\n",
    "\n",
    "    returns:\n",
    "    -------\n",
    "    V_opt : float array, (env.nS,) size\n",
    "    Optimal value function on the FrozenLake MDP given a discount GAMMA\n",
    "    V_opt[state index] = Value of that state\n",
    "    \"\"\"\n",
    "    # Compute both the reward vector m_action and\n",
    "    # transition matrix P_action associated to the action on the given env\n",
    "    m_action = np.zeros((env.nA, env.nS))\n",
    "    transition_action = np.zeros((env.nA, env.nS, env.nS))\n",
    "    \n",
    "    for action in range(env.nA):\n",
    "        for state in range(env.nS):\n",
    "            transitions_info = env.P[state][action]\n",
    "            for transition in transitions_info:\n",
    "                probability, next_state, reward, _ = transition\n",
    "                transition_action[action, state, next_state] += probability\n",
    "                m_action[action, state] += reward * probability\n",
    "\n",
    "    # Compute the value function V_pi of the policy pi\n",
    "    v_opt = np.zeros(env.nS)\n",
    "    v_opt_old = np.zeros(env.nS)\n",
    "    delta_inf = np.zeros(max_iter)\n",
    "    stop = False\n",
    "    i = 0\n",
    "    while (not stop) and (i < max_iter):\n",
    "        v_opt = bellman_optimal(m_action,v_opt,transition_action)\n",
    "        delta_inf[i] = np.max(np.abs(v_opt - v_opt_old))\n",
    "        v_opt_old[:] = v_opt\n",
    "        if delta_inf[i] < epsilon:\n",
    "            stop = True\n",
    "            delta_inf = delta_inf[:i + 1]\n",
    "        i += 1\n",
    "    return np.array(v_opt), delta_inf\n",
    "\n",
    "starting_time = perf_counter()\n",
    "V_opt, Delta_inf = value_function_optimal(1e-10, 10000)\n",
    "print(convert_time(starting_time, perf_counter()))\n",
    "print(f\"Optimal value function:\\n\")\n",
    "#print_values(V_opt)\n",
    "plot_heatmap(V_opt)\n",
    "\n",
    "plt.figure()\n",
    "plt.title(\"Semi-log graph of $n \\mapsto || V_{n+1} - V_n ||_\\infty $ \\n\\\n",
    "The Linearity of this graph proves exponential convergence\")\n",
    "plt.semilogy(Delta_inf)\n",
    "plt.xlabel(\"Iterate\")\n",
    "plt.ylabel(r\"$|| V_{n+1} - V_n ||_\\infty$\")\n",
    "plt.savefig('question7.png')\n",
    "print(f\"\\nNumber of iterations: {Delta_inf.size}\")\n",
    "print(f\"Last residual {Delta_inf[-1]:.6f}\")\n"
   ]
  },
  {
   "cell_type": "markdown",
   "metadata": {},
   "source": [
    "Here we used the Optimal Bellman Operator to implement a function that uteratively applies the operator to computer the optimal value function $V^{*}$. We can see that the value for the first state is quite different from the one we saw earlier with the strategy of only moving right."
   ]
  },
  {
   "cell_type": "markdown",
   "metadata": {},
   "source": [
    "### 8. Value Iteration Algorithm\n",
    "The Bellman greedy operator is defined as follows :\n",
    "\n",
    "$$\\mathcal{G}[v] = \\argmax_{a} m_a + \\gamma P_av$$\n"
   ]
  },
  {
   "cell_type": "code",
   "execution_count": null,
   "metadata": {},
   "outputs": [
    {
     "name": "stdout",
     "output_type": "stream",
     "text": [
      "\n",
      "######################\n",
      "##### Question 8 #####\n",
      "######################\n",
      "\n",
      "VALUE ITERATION\n",
      "\n",
      "Running time: 0.0024 sec\n",
      "\n",
      "An optimal policy is:\n",
      "\n",
      "←↑←↑\n",
      "←←←←\n",
      "↑↓←←\n",
      "←→↓←\n"
     ]
    }
   ],
   "source": [
    "# Question 8\n",
    "print(\"\\n######################\")\n",
    "print(\"##### Question 8 #####\")\n",
    "print(\"######################\\n\")\n",
    "print(\"VALUE ITERATION\\n\")\n",
    "\n",
    "def bellman_greedy(v_opt,m_action,transition_action):\n",
    "    pi_opt = np.zeros(env.nS)\n",
    "    for state in range(env.nS):\n",
    "        best_action = 0\n",
    "        best_value = 0\n",
    "        for action in range(env.nA):\n",
    "            temp = m_action[action, state] + GAMMA * (transition_action[action] @ v_opt)[state]\n",
    "            if temp > best_value:\n",
    "                best_value = temp\n",
    "                best_action = action\n",
    "        pi_opt[state] = best_action\n",
    "    return pi_opt\n",
    "\n",
    "def value_iteration(epsilon, max_iter):\n",
    "    \"\"\"\n",
    "    epsilon : float\n",
    "    Used as a threshold for the stopping rule\n",
    "\n",
    "    max_iter : int\n",
    "    Hard threshold on the number of loops\n",
    "\n",
    "    returns:\n",
    "    -------\n",
    "    pi : int array, size (env.nS,)\n",
    "    An optimal policy\n",
    "    \"\"\"\n",
    "    # Compute both the reward vector r_pi and\n",
    "    # transition matrix P_pi associated to the policy on the given env\n",
    "    m_action = np.zeros((env.nA, env.nS))\n",
    "    transition_action = np.zeros((env.nA, env.nS, env.nS))\n",
    "    \n",
    "    for action in range(env.nA):\n",
    "        for state in range(env.nS):\n",
    "            transitions_info = env.P[state][action]\n",
    "            for transition in transitions_info:\n",
    "                probability, next_state, reward, _ = transition\n",
    "                transition_action[action, state, next_state] += probability\n",
    "                m_action[action, state] += reward * probability\n",
    "\n",
    "    v_opt,_ = value_function_optimal(epsilon, max_iter)\n",
    "    pi_opt = bellman_greedy(v_opt,m_action,transition_action)\n",
    "    return pi_opt\n",
    "\n",
    "\n",
    "ARROWS = {\n",
    "    fl.RIGHT: \"→\",\n",
    "    fl.LEFT: \"←\",\n",
    "    fl.UP: \"↑\",\n",
    "    fl.DOWN: \"↓\"\n",
    "}\n",
    "\n",
    "def print_policy(pi):\n",
    "    for row in range(env.nrow):\n",
    "        for col in range(env.ncol):\n",
    "            print(ARROWS[pi[to_s(row, col)]], end='')\n",
    "        print(\"\")\n",
    "\n",
    "starting_time = perf_counter()\n",
    "Pi_opt = value_iteration(1e-4, 1000)\n",
    "print(convert_time(starting_time, perf_counter()))\n",
    "print(\"An optimal policy is:\\n\")\n",
    "print_policy(Pi_opt)"
   ]
  },
  {
   "cell_type": "markdown",
   "metadata": {},
   "source": [
    "Thanks to the value iteration algorithm, we managed to find the optima policy to walk on the frozen lake. We used the same function as for the calculation of the optimal value function and added the calculation of the policy in the process."
   ]
  },
  {
   "cell_type": "markdown",
   "metadata": {},
   "source": [
    "### 9. Policy Iteration Algorithm\n",
    "\n",
    "We start with some policy $\\pi_0$ initialized arbitrarily.\n",
    "\n",
    "We compute $v_{n+1} = \\mathcal{T}_{\\pi_n}^{\\infty} = (I-\\gamma P_{\\pi_n})^{-1}m_{\\pi_n}$.\n",
    "\n",
    "We calculate $\\pi_{n+1} = \\mathcal{G}[v_n]$.\n",
    "\n",
    "Stop if $v_{n+1} = v_{n}$."
   ]
  },
  {
   "cell_type": "code",
   "execution_count": null,
   "metadata": {},
   "outputs": [
    {
     "name": "stdout",
     "output_type": "stream",
     "text": [
      "\n",
      "######################\n",
      "##### Question 9 #####\n",
      "######################\n",
      "\n",
      "POLICY ITERATION\n",
      "\n",
      "Stopped after 3 iterations\n",
      "Running time: 0.0035 sec\n",
      "\n",
      "An optimal policy is:\n",
      "\n",
      "←↑←↑\n",
      "←←←←\n",
      "↑↓←←\n",
      "←→↓←\n"
     ]
    }
   ],
   "source": [
    "# Question 9\n",
    "print(\"\\n######################\")\n",
    "print(\"##### Question 9 #####\")\n",
    "print(\"######################\\n\")\n",
    "print(\"POLICY ITERATION\\n\")\n",
    "\n",
    "\n",
    "# The danger of Policy Iteration lies in the stopping criterion\n",
    "# If not careful, one might end up with an algorithm that does not\n",
    "# terminate and oscillates between optimal policies\n",
    "# Even if it is computationally more expensive, we sometimes rather\n",
    "# compare value functions of the policies than policies from one iterate\n",
    "# to another.\n",
    "\n",
    "# An easy improvement on the following code would be to use\n",
    "# a warm start for policy evaluation steps (if iteration methods is used)\n",
    "# That is to say, using the previously computed value function\n",
    "# as the first step for the next policy evaluation\n",
    "\n",
    "def policy_iteration(max_iter):\n",
    "    \"\"\"\n",
    "    epsilon : float\n",
    "    Used as a threshold for the stopping rule\n",
    "\n",
    "    max_iter : int\n",
    "    Hard threshold on the number of loops\n",
    "\n",
    "    returns:\n",
    "    -------\n",
    "    pi : int array, size (env.nS,)\n",
    "    An optimal policy\n",
    "    \"\"\"\n",
    "    pi = np.random.randint(0,env.nA,size = env.nS)\n",
    "    value = value_function(pi)\n",
    "    \n",
    "    m_action = np.zeros((env.nA, env.nS))\n",
    "    transition_action = np.zeros((env.nA, env.nS, env.nS))\n",
    "    \n",
    "    for action in range(env.nA):\n",
    "        for state in range(env.nS):\n",
    "            transitions_info = env.P[state][action]\n",
    "            for transition in transitions_info:\n",
    "                probability, next_state, reward, _ = transition\n",
    "                transition_action[action, state, next_state] += probability\n",
    "                m_action[action, state] += reward * probability\n",
    "\n",
    "    next_pi =  bellman_greedy(value,m_action,transition_action)\n",
    "    next_value = value_function(next_pi)\n",
    "\n",
    "    i = 0\n",
    "    while not np.array_equal(next_value, value) and i < max_iter:\n",
    "        pi = next_pi\n",
    "        value = next_value\n",
    "        next_pi = bellman_greedy(value,m_action,transition_action)\n",
    "        next_value = value_function(next_pi)\n",
    "        i += 1\n",
    "\n",
    "    print(f\"Stopped after {i} iterations\")  \n",
    "    return pi\n",
    "\n",
    "\n",
    "starting_time = perf_counter()\n",
    "Pi_opt = policy_iteration(1000)\n",
    "print(convert_time(starting_time, perf_counter()))\n",
    "print(\"An optimal policy is:\\n\")\n",
    "print_policy(Pi_opt)"
   ]
  },
  {
   "cell_type": "markdown",
   "metadata": {},
   "source": [
    "### 10. Comments\n",
    "\n",
    "As we can see, the results given by both algorithms are the same. \n",
    "\n",
    "We can also notice that the number of iterations needed for the policy iteration algorithm is less than the number of iterations needed of the value iteration algorithm. \n",
    "\n",
    "This is because the policy iteration directly uses the exact formula to calculate the value function whereas the value iteration calculates it with an approximation method."
   ]
  },
  {
   "cell_type": "markdown",
   "metadata": {},
   "source": [
    "### 11. Q-learning Algorithm\n",
    "\n",
    "The optimal Bellman operator for Q-learning is :\n",
    "\n",
    "$$\\mathcal{T}[q] = (s,a) \\rightarrow m(s,a) + \\gamma \\displaystyle\\sum_{s'}P_a(s'|s)\\max_{a}q(s',a)$$"
   ]
  },
  {
   "cell_type": "code",
   "execution_count": null,
   "metadata": {},
   "outputs": [
    {
     "name": "stdout",
     "output_type": "stream",
     "text": [
      "\n",
      "#######################\n",
      "##### Question 11 #####\n",
      "#######################\n",
      "\n",
      "OPTIMAL Q-BELLMAN OPERATOR METHOD\n",
      "\n",
      "Running time: 0.1103 sec\n",
      "\n",
      "\n",
      "Number of iterations: 53\n",
      "Last residual 0.000099\n"
     ]
    },
    {
     "data": {
      "image/png": "[encoded data removed]",
      "text/plain": [
       "<Figure size 432x288 with 1 Axes>"
      ]
     },
     "metadata": {},
     "output_type": "display_data"
    }
   ],
   "source": [
    "# Question 11\n",
    "print(\"\\n#######################\")\n",
    "print(\"##### Question 11 #####\")\n",
    "print(\"#######################\\n\")\n",
    "print(\"OPTIMAL Q-BELLMAN OPERATOR METHOD\\n\")\n",
    "\n",
    "def q_bellman_operator(q,m_action,transition_action):\n",
    "    next_q = np.zeros((env.nS,env.nA))\n",
    "    for state in range(env.nS):\n",
    "        for action in range(env.nA):\n",
    "            quality = m_action[action,state]\n",
    "            for state2 in range(env.nS):\n",
    "                max_q = 0\n",
    "                for action2 in range(env.nA):\n",
    "                    temp = q[state2,action2]\n",
    "                    if temp > max_q:\n",
    "                        max_q = temp\n",
    "                quality += GAMMA * transition_action[action,state,state2] * max_q\n",
    "            next_q[state,action] = quality\n",
    "    return next_q\n",
    "\n",
    "def state_value_function_optimal(epsilon, max_iter):\n",
    "    \"\"\"\n",
    "    epsilon : float\n",
    "    Used as a threshold for the stopping rule\n",
    "\n",
    "    max_iter : int\n",
    "    Hard threshold on the number of loops\n",
    "\n",
    "    returns:\n",
    "    -------\n",
    "    q_opt : float array, (env.nS, env.nA) size\n",
    "    Optimal state-action value function on the FrozenLake MDP\n",
    "    given a discount GAMMA\n",
    "    q_opt[state index][action index] = state-action value of that state\n",
    "    \"\"\"\n",
    "    m_action = np.zeros((env.nA, env.nS))\n",
    "    transition_action = np.zeros((env.nA, env.nS, env.nS))\n",
    "    \n",
    "    for action in range(env.nA):\n",
    "        for state in range(env.nS):\n",
    "            transitions_info = env.P[state][action]\n",
    "            for transition in transitions_info:\n",
    "                probability, next_state, reward, _ = transition\n",
    "                transition_action[action, state, next_state] += probability\n",
    "                m_action[action, state] += reward * probability\n",
    "    \n",
    "    q_opt =  np.zeros((env.nS,env.nA))\n",
    "    q_opt_old =  np.zeros((env.nS,env.nA))\n",
    "    delta_inf = np.zeros(max_iter)\n",
    "    stop = False\n",
    "    i = 0\n",
    "    while (not stop) and (i < max_iter):\n",
    "        q_opt = q_bellman_operator(q_opt,m_action,transition_action)\n",
    "        delta_inf[i] = np.linalg.norm(q_opt-q_opt_old)\n",
    "        q_opt_old[:] = q_opt\n",
    "        if delta_inf[i] < epsilon:\n",
    "            stop = True\n",
    "            delta_inf = delta_inf[:i + 1]\n",
    "        i += 1\n",
    "    return q_opt, delta_inf\n",
    "\n",
    "\n",
    "starting_time = perf_counter()\n",
    "Q_opt, Delta_inf = state_value_function_optimal(1e-4, 100)\n",
    "print(convert_time(starting_time, perf_counter()))\n",
    "# print(Q_opt)\n",
    "#V_opt = None\n",
    "#print(f\"Optimal value function:\\n\")\n",
    "#print(Q_opt)\n",
    "\n",
    "plt.figure()\n",
    "plt.title(\"Semi-log graph of $n \\mapsto || Q_{n+1} - Q_n ||_\\infty $ \\n\\\n",
    "The Linearity of this graph proves exponential convergence\")\n",
    "plt.semilogy(Delta_inf)\n",
    "plt.xlabel(\"Iterate\")\n",
    "plt.ylabel(r\"$|| Q_{n+1} - Q_n ||_\\infty$\")\n",
    "plt.savefig('question11.png')\n",
    "print(f\"\\nNumber of iterations: {Delta_inf.size}\")\n",
    "print(f\"Last residual {Delta_inf[-1]:.6f}\")"
   ]
  },
  {
   "cell_type": "markdown",
   "metadata": {},
   "source": [
    "We managed to calculate the optimal q vector with threshold 1e-10 in 154 iterations. \n",
    "\n",
    "Now we can deduce the policy by applying a greedy formula."
   ]
  },
  {
   "cell_type": "markdown",
   "metadata": {},
   "source": [
    "### 12. Getting Policy from Quality\n",
    "\n",
    "$$\\pi_{\\star} = \\mathcal{G}[q] = \\argmax_{a}q(s,a)$$"
   ]
  },
  {
   "cell_type": "code",
   "execution_count": null,
   "metadata": {},
   "outputs": [
    {
     "name": "stdout",
     "output_type": "stream",
     "text": [
      "\n",
      "#######################\n",
      "##### Question 12 #####\n",
      "#######################\n",
      "\n",
      "\n",
      "An optimal policy is:\n",
      "\n",
      "←↑←↑\n",
      "←←←←\n",
      "↑↓←←\n",
      "←→↓←\n"
     ]
    }
   ],
   "source": [
    "# Question 12\n",
    "print(\"\\n#######################\")\n",
    "print(\"##### Question 12 #####\")\n",
    "print(\"#######################\\n\")\n",
    "\n",
    "Pi_opt = np.argmax(Q_opt, axis=1)\n",
    "print(\"\\nAn optimal policy is:\\n\")\n",
    "print_policy(Pi_opt)"
   ]
  },
  {
   "cell_type": "markdown",
   "metadata": {},
   "source": [
    "We can see that we get the same result than Value Iteration and Policy Iteration."
   ]
  },
  {
   "cell_type": "markdown",
   "metadata": {},
   "source": [
    "### 13. Comparaison\n",
    "Now, let's test if our policy (which is the same for the 3 algorithms) is a good policy to get our friend through the frozen lake !"
   ]
  },
  {
   "cell_type": "code",
   "execution_count": null,
   "metadata": {},
   "outputs": [
    {
     "name": "stdout",
     "output_type": "stream",
     "text": [
      "\n",
      "#######################\n",
      "##### Question 13 #####\n",
      "#######################\n",
      "\n",
      "RENDER A TRAJECTORY\n",
      "The GOAL has been reached! Congrats! :-)\n",
      "  (Down)\n",
      "SFFF\n",
      "FHFH\n",
      "FFFH\n",
      "HFF\u001b[41mG\u001b[0m\n",
      "The cumulative discounted reward along the above trajectory is: 0.06461 and reached the frisbee with 27 iterations\n"
     ]
    }
   ],
   "source": [
    "# Question 13\n",
    "print(\"\\n#######################\")\n",
    "print(\"##### Question 13 #####\")\n",
    "print(\"#######################\\n\")\n",
    "print(\"RENDER A TRAJECTORY\")\n",
    "\n",
    "\n",
    "# render policy\n",
    "def trajectory(pi, max_moves=100):\n",
    "    done = False\n",
    "    i = 0\n",
    "    env.reset()\n",
    "    cumulative_reward = 0\n",
    "    discount = 1\n",
    "    while not done and i < max_moves:\n",
    "        i += 1\n",
    "        _, r, done, _ = env.step(pi[env.s])\n",
    "        cumulative_reward += discount*r\n",
    "        discount *= GAMMA\n",
    "    if done and env.s != env.nS-1:\n",
    "        print(\"You've fallen in a hole !\")\n",
    "    elif done:\n",
    "        print(\"The GOAL has been reached! Congrats! :-)\")\n",
    "    env.render()\n",
    "    return cumulative_reward,i\n",
    "\n",
    "cr,i = trajectory(Pi_opt)\n",
    "print(f\"The cumulative discounted reward along the above trajectory is: {cr:.5f} and reached the frisbee with {i} iterations\")\n"
   ]
  }
 ],
 "metadata": {
  "interpreter": {
   "hash": "aee8b7b246df8f9039afb4144a1f6fd8d2ca17a180786b69acc140d282b71a49"
  },
  "kernelspec": {
   "display_name": "Python 3.8.10 64-bit",
   "language": "python",
   "name": "python3"
  },
  "language_info": {
   "codemirror_mode": {
    "name": "ipython",
    "version": 3
   },
   "file_extension": ".py",
   "mimetype": "text/x-python",
   "name": "python",
   "nbconvert_exporter": "python",
   "pygments_lexer": "ipython3",
   "version": "3.8.10"
  },
  "orig_nbformat": 4
 },
 "nbformat": 4,
 "nbformat_minor": 2
}
